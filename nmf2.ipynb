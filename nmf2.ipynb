{
 "cells": [
  {
   "cell_type": "code",
   "execution_count": 125,
   "metadata": {},
   "outputs": [],
   "source": [
    "from numpy import * "
   ]
  },
  {
   "cell_type": "code",
   "execution_count": 126,
   "metadata": {},
   "outputs": [],
   "source": [
    "N = 10\n",
    "M = 5\n",
    "R = 2"
   ]
  },
  {
   "cell_type": "code",
   "execution_count": 127,
   "metadata": {},
   "outputs": [],
   "source": [
    "v = random.randint(0,99,size=(N, M))\n"
   ]
  },
  {
   "cell_type": "code",
   "execution_count": 128,
   "metadata": {},
   "outputs": [],
   "source": [
    "def train(V, r, k, e):\n",
    "\n",
    "    m, n = V.shape\n",
    "    W = mat(random.random((m, r)))\n",
    "    H = mat(random.random((r, n)))\n",
    "    err_list = []\n",
    "\n",
    "    for x in range(k):\n",
    "\n",
    "        V_pre = W * H\n",
    "        E = V - V_pre\n",
    "\n",
    "        err = 0.0\n",
    "        for i in range(m):\n",
    "            for j in range(n):\n",
    "                err += E[i,j] * E[i,j]\n",
    "        err_list.append(err)\n",
    "        \n",
    "        if err < e:\n",
    "            break\n",
    "\n",
    "        a = W.T * V\n",
    "        b = W.T * W * H\n",
    "        for i_1 in range(r):\n",
    "            for j_1 in range(n):\n",
    "                if b[i_1,j_1] != 0:\n",
    "                    H[i_1,j_1] = H[i_1,j_1] * a[i_1,j_1] / b[i_1,j_1]\n",
    "\n",
    "        c = V * H.T\n",
    "        d = W * H * H.T\n",
    "        for i_2 in range(m):\n",
    "            for j_2 in range(r):\n",
    "                if d[i_2, j_2] != 0:\n",
    "                    W[i_2,j_2] = W[i_2,j_2] * c[i_2,j_2] / d[i_2, j_2]\n",
    "\n",
    "    return W,H,err_list"
   ]
  },
  {
   "cell_type": "code",
   "execution_count": 129,
   "metadata": {},
   "outputs": [],
   "source": [
    "V = v\n",
    "W, H, err_list= train(V, R, 100, 1e-5 )"
   ]
  },
  {
   "cell_type": "code",
   "execution_count": 130,
   "metadata": {},
   "outputs": [
    {
     "data": {
      "text/plain": [
       "(10, 5)"
      ]
     },
     "execution_count": 130,
     "metadata": {},
     "output_type": "execute_result"
    }
   ],
   "source": [
    "V.shape"
   ]
  },
  {
   "cell_type": "code",
   "execution_count": 131,
   "metadata": {},
   "outputs": [
    {
     "data": {
      "text/plain": [
       "array([[11, 17, 75, 35, 10],\n",
       "       [ 1, 79, 75, 19, 55],\n",
       "       [96, 98, 63, 32, 39],\n",
       "       [ 3, 77, 49,  4, 15],\n",
       "       [49,  2, 63,  2, 98],\n",
       "       [93, 28, 60, 57,  8],\n",
       "       [74, 71, 33, 34, 32],\n",
       "       [40, 69, 53, 61, 98],\n",
       "       [72, 67, 64, 47, 53],\n",
       "       [69, 34, 83, 61,  9]])"
      ]
     },
     "execution_count": 131,
     "metadata": {},
     "output_type": "execute_result"
    }
   ],
   "source": [
    "V"
   ]
  },
  {
   "cell_type": "code",
   "execution_count": 132,
   "metadata": {},
   "outputs": [
    {
     "data": {
      "text/plain": [
       "matrix([[0.32787943, 0.3001709 ],\n",
       "        [0.00153524, 0.94587156],\n",
       "        [0.85072192, 0.56095768],\n",
       "        [0.08393335, 0.56552327],\n",
       "        [0.08023837, 0.78149241],\n",
       "        [1.03523344, 0.02096815],\n",
       "        [0.65427942, 0.3739854 ],\n",
       "        [0.24344934, 1.00535646],\n",
       "        [0.6555163 , 0.60174037],\n",
       "        [0.90904643, 0.18349766]])"
      ]
     },
     "execution_count": 132,
     "metadata": {},
     "output_type": "execute_result"
    }
   ],
   "source": [
    "W"
   ]
  },
  {
   "cell_type": "code",
   "execution_count": 133,
   "metadata": {},
   "outputs": [
    {
     "data": {
      "text/plain": [
       "matrix([[87.88558629, 39.43941345, 52.59071096, 50.96739528,  0.20598714],\n",
       "        [18.30977366, 67.17144215, 61.91726417, 19.92876666, 80.96513331]])"
      ]
     },
     "execution_count": 133,
     "metadata": {},
     "output_type": "execute_result"
    }
   ],
   "source": [
    "H"
   ]
  },
  {
   "cell_type": "code",
   "execution_count": 134,
   "metadata": {},
   "outputs": [
    {
     "data": {
      "text/plain": [
       "matrix([[34.31193751, 33.09428481, 35.82917346, 22.69319654, 24.37091591],\n",
       "        [17.45361927, 63.59610551, 58.64651834, 18.92830057, 76.58293311],\n",
       "        [85.03720315, 71.23231026, 79.47303585, 54.53827529, 45.59325146],\n",
       "        [17.73113493, 41.29729559, 39.42976819, 15.54804559, 45.80495587],\n",
       "        [21.36074513, 55.65852648, 52.6076649 , 19.6637205 , 63.29016539],\n",
       "        [91.36601945, 42.23746016, 55.74195268, 53.18102102,  1.9109336 ],\n",
       "        [64.34931854, 50.92553538, 57.56517284, 40.79998567, 30.41455109],\n",
       "        [39.80353743, 77.13274259, 75.05209555, 32.44349318, 81.44896729],\n",
       "        [68.62816465, 66.27294726, 71.73218616, 45.40190203, 48.8550176 ],\n",
       "        [83.25187911, 48.17806049, 59.16907118, 49.9886108 , 15.04416442]])"
      ]
     },
     "execution_count": 134,
     "metadata": {},
     "output_type": "execute_result"
    }
   ],
   "source": [
    "W * H"
   ]
  },
  {
   "cell_type": "code",
   "execution_count": 135,
   "metadata": {},
   "outputs": [
    {
     "data": {
      "text/plain": [
       "[158090.4250232795,\n",
       " 29208.980703053603,\n",
       " 27435.20815413151,\n",
       " 25747.82520614099,\n",
       " 24144.21837819726,\n",
       " 22764.14214168176,\n",
       " 21654.419671229294,\n",
       " 20781.391947032746,\n",
       " 20094.579669559127,\n",
       " 19558.135538243434,\n",
       " 19147.98072854159,\n",
       " 18842.13088741198,\n",
       " 18617.818977800245,\n",
       " 18453.753429889424,\n",
       " 18332.560600399607,\n",
       " 18241.45741472973,\n",
       " 18171.609259430992,\n",
       " 18117.07275540917,\n",
       " 18073.84595046307,\n",
       " 18039.179650940874,\n",
       " 18011.127454509366,\n",
       " 17988.26597603296,\n",
       " 17969.52351675978,\n",
       " 17954.074128916447,\n",
       " 17941.27025179128,\n",
       " 17930.598122289168,\n",
       " 17921.646904138874,\n",
       " 17914.0863812812,\n",
       " 17907.650253345077,\n",
       " 17902.123286628634,\n",
       " 17897.33124769037,\n",
       " 17893.132925083843,\n",
       " 17889.413763577846,\n",
       " 17886.08076752038,\n",
       " 17883.0584147353,\n",
       " 17880.28538004889,\n",
       " 17877.711909131882,\n",
       " 17875.29771468064,\n",
       " 17873.01029133091,\n",
       " 17870.82356503573,\n",
       " 17868.716808189693,\n",
       " 17866.673764406576,\n",
       " 17864.681937199293,\n",
       " 17862.73200537406,\n",
       " 17860.817335126983,\n",
       " 17858.933564933897,\n",
       " 17857.07824458168,\n",
       " 17855.250514261443,\n",
       " 17853.450813628297,\n",
       " 17851.680614169672,\n",
       " 17849.942171118815,\n",
       " 17848.23829348253,\n",
       " 17846.572132497087,\n",
       " 17844.946989974193,\n",
       " 17843.36614856386,\n",
       " 17841.83272599266,\n",
       " 17840.349554923047,\n",
       " 17838.919089333496,\n",
       " 17837.543337377396,\n",
       " 17836.223819674986,\n",
       " 17834.96155105183,\n",
       " 17833.75704295635,\n",
       " 17832.610323234836,\n",
       " 17831.52096964189,\n",
       " 17830.488153415015,\n",
       " 17829.510689412782,\n",
       " 17828.587089659526,\n",
       " 17827.71561759806,\n",
       " 17826.894340872517,\n",
       " 17826.121180993454,\n",
       " 17825.393958740136,\n",
       " 17824.710434602013,\n",
       " 17824.068343936633,\n",
       " 17823.46542681994,\n",
       " 17822.899452787056,\n",
       " 17822.368240816355,\n",
       " 17821.869675004433,\n",
       " 17821.40171642802,\n",
       " 17820.962411701214,\n",
       " 17820.549898721572,\n",
       " 17820.162410067787,\n",
       " 17819.79827446941,\n",
       " 17819.45591672239,\n",
       " 17819.133856375764,\n",
       " 17818.830705468597,\n",
       " 17818.545165552627,\n",
       " 17818.276024197017,\n",
       " 17818.022151136607,\n",
       " 17817.782494195268,\n",
       " 17817.556075089753,\n",
       " 17817.341985197923,\n",
       " 17817.139381356592,\n",
       " 17816.947481739484,\n",
       " 17816.765561852837,\n",
       " 17816.592950676375,\n",
       " 17816.429026969,\n",
       " 17816.27321575174,\n",
       " 17816.124984975526,\n",
       " 17815.983842376758,\n",
       " 17815.84933252076]"
      ]
     },
     "execution_count": 135,
     "metadata": {},
     "output_type": "execute_result"
    }
   ],
   "source": [
    "err_list"
   ]
  },
  {
   "cell_type": "code",
   "execution_count": 136,
   "metadata": {},
   "outputs": [
    {
     "data": {
      "text/plain": [
       "[<matplotlib.lines.Line2D at 0x11a049668>]"
      ]
     },
     "execution_count": 136,
     "metadata": {},
     "output_type": "execute_result"
    },
    {
     "data": {
      "image/png": "[encoded data removed]",
      "text/plain": [
       "<Figure size 432x288 with 1 Axes>"
      ]
     },
     "metadata": {},
     "output_type": "display_data"
    }
   ],
   "source": [
    "import matplotlib.pyplot as plt\n",
    "x = len(err_list)\n",
    "plt.plot(err_list)"
   ]
  },
  {
   "cell_type": "code",
   "execution_count": null,
   "metadata": {},
   "outputs": [],
   "source": []
  }
 ],
 "metadata": {
  "kernelspec": {
   "display_name": "Python 3",
   "language": "python",
   "name": "python3"
  },
  "language_info": {
   "codemirror_mode": {
    "name": "ipython",
    "version": 3
   },
   "file_extension": ".py",
   "mimetype": "text/x-python",
   "name": "python",
   "nbconvert_exporter": "python",
   "pygments_lexer": "ipython3",
   "version": "3.6.5"
  }
 },
 "nbformat": 4,
 "nbformat_minor": 2
}
